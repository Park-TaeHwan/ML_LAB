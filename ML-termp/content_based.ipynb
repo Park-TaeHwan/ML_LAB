{
 "cells": [
  {
   "cell_type": "code",
   "execution_count": 93,
   "metadata": {},
   "outputs": [],
   "source": [
    "import pandas as pd\n",
    "import numpy as np\n",
    "import matplotlib.pyplot as plt\n",
    "import seaborn as sns\n",
    "from ast import literal_eval\n",
    "from sklearn.feature_extraction.text import TfidfVectorizer\n",
    "from sklearn.feature_extraction.text import CountVectorizer\n",
    "from sklearn.metrics.pairwise import cosine_similarity"
   ]
  },
  {
   "cell_type": "code",
   "execution_count": 94,
   "metadata": {},
   "outputs": [
    {
     "data": {
      "text/html": [
       "<div>\n",
       "<style scoped>\n",
       "    .dataframe tbody tr th:only-of-type {\n",
       "        vertical-align: middle;\n",
       "    }\n",
       "\n",
       "    .dataframe tbody tr th {\n",
       "        vertical-align: top;\n",
       "    }\n",
       "\n",
       "    .dataframe thead th {\n",
       "        text-align: right;\n",
       "    }\n",
       "</style>\n",
       "<table border=\"1\" class=\"dataframe\">\n",
       "  <thead>\n",
       "    <tr style=\"text-align: right;\">\n",
       "      <th></th>\n",
       "      <th>Unnamed: 0</th>\n",
       "      <th>id</th>\n",
       "      <th>feed_url</th>\n",
       "      <th>title</th>\n",
       "      <th>subtitle</th>\n",
       "      <th>description</th>\n",
       "      <th>summary</th>\n",
       "      <th>author</th>\n",
       "      <th>email</th>\n",
       "      <th>link</th>\n",
       "      <th>language</th>\n",
       "      <th>explicit</th>\n",
       "      <th>image</th>\n",
       "      <th>category</th>\n",
       "      <th>subcategory</th>\n",
       "      <th>created_at</th>\n",
       "      <th>last_build_date</th>\n",
       "      <th>rating</th>\n",
       "    </tr>\n",
       "  </thead>\n",
       "  <tbody>\n",
       "    <tr>\n",
       "      <th>0</th>\n",
       "      <td>0</td>\n",
       "      <td>0002da5f-49a2-31ba-b44c-cdeabdf113cb</td>\n",
       "      <td>http://www.cbc.ca/podcasting/includes/dispatch...</td>\n",
       "      <td>Dispatches from CBC Radio</td>\n",
       "      <td>NaN</td>\n",
       "      <td>CBC Radio's Dispatches host Rick MacInnes-Rae ...</td>\n",
       "      <td>CBC Radio's Dispatches host Rick MacInnes-Rae ...</td>\n",
       "      <td>CBC Radio</td>\n",
       "      <td>podcasting@cbc.ca</td>\n",
       "      <td>http://www.cbc.ca/podcasting</td>\n",
       "      <td>en-ca</td>\n",
       "      <td>0</td>\n",
       "      <td>http://www.cbc.ca/podcasting/images/promo-disp...</td>\n",
       "      <td>News &amp; Politics</td>\n",
       "      <td>Public Radio</td>\n",
       "      <td>2016-11-27T03:15:54</td>\n",
       "      <td>2016-11-27T03:15:54</td>\n",
       "      <td>2</td>\n",
       "    </tr>\n",
       "    <tr>\n",
       "      <th>1</th>\n",
       "      <td>1</td>\n",
       "      <td>00044845-beb8-35f3-99e2-01dbcfb6eb63</td>\n",
       "      <td>http://everydayissaturday.com/feed/podcast/</td>\n",
       "      <td>Motivation | Inspiration| Success with Entrepr...</td>\n",
       "      <td>Motivation - Inspiration - Success - Mindset -...</td>\n",
       "      <td>Sam Crowley delivers million dollar motivation...</td>\n",
       "      <td>Sam Crowley delivers million dollar motivation...</td>\n",
       "      <td>Sam Crowley</td>\n",
       "      <td>sam@everydayissaturday.com</td>\n",
       "      <td>http://everydayissaturday.com</td>\n",
       "      <td>en-us</td>\n",
       "      <td>0</td>\n",
       "      <td>http://everydayissaturday.com/wp-content/uploa...</td>\n",
       "      <td>Business</td>\n",
       "      <td>Business</td>\n",
       "      <td>2016-11-26T19:11:59</td>\n",
       "      <td>2016-11-21T14:19:34</td>\n",
       "      <td>2</td>\n",
       "    </tr>\n",
       "    <tr>\n",
       "      <th>2</th>\n",
       "      <td>2</td>\n",
       "      <td>00048bfa-8363-3f10-ac8e-8f27a31fe11f</td>\n",
       "      <td>http://disability411.jinkle.com/disability411.xml</td>\n",
       "      <td>Disability411 Podcast</td>\n",
       "      <td>NaN</td>\n",
       "      <td>Disability411 - The Podcast for Disability Inf...</td>\n",
       "      <td>NaN</td>\n",
       "      <td>Beth Case</td>\n",
       "      <td>NaN</td>\n",
       "      <td>http://disability411.jinkle.com/</td>\n",
       "      <td>en-us</td>\n",
       "      <td>0</td>\n",
       "      <td>NaN</td>\n",
       "      <td>Government &amp; Organizations</td>\n",
       "      <td>Business</td>\n",
       "      <td>2016-11-27T00:37:30</td>\n",
       "      <td>2016-11-27T00:37:30</td>\n",
       "      <td>3</td>\n",
       "    </tr>\n",
       "    <tr>\n",
       "      <th>3</th>\n",
       "      <td>3</td>\n",
       "      <td>0005ab14-ea88-3038-b82c-86366713e96a</td>\n",
       "      <td>http://stevenredant.podomatic.com/rss2.xml</td>\n",
       "      <td>Steven Redant's Podcast</td>\n",
       "      <td>Energy for your work out, your travels and you...</td>\n",
       "      <td>En example of what happened on my dance floor ...</td>\n",
       "      <td>En example of what happened on my dance floor ...</td>\n",
       "      <td>Steven Redant (the RedAnt)</td>\n",
       "      <td>NaN</td>\n",
       "      <td>NaN</td>\n",
       "      <td>en-gb</td>\n",
       "      <td>0</td>\n",
       "      <td>https://assets.podomatic.net/ts/b8/34/09/steve...</td>\n",
       "      <td>Music</td>\n",
       "      <td>NaN</td>\n",
       "      <td>2016-11-26T18:37:07</td>\n",
       "      <td>2016-11-26T18:37:07</td>\n",
       "      <td>2</td>\n",
       "    </tr>\n",
       "    <tr>\n",
       "      <th>4</th>\n",
       "      <td>4</td>\n",
       "      <td>0005eac4-fa5d-3c33-a354-ad7928f3705b</td>\n",
       "      <td>http://api.spokenlayer.com/feed/channel/v1-wir...</td>\n",
       "      <td>WIRED News – Spoken Edition</td>\n",
       "      <td>NaN</td>\n",
       "      <td>Get in-depth coverage of current and future tr...</td>\n",
       "      <td>Get in-depth coverage of current and future tr...</td>\n",
       "      <td>WIRED</td>\n",
       "      <td>distribution@spokenlayer.com</td>\n",
       "      <td>http://www.spokenlayer.com</td>\n",
       "      <td>en</td>\n",
       "      <td>0</td>\n",
       "      <td>\\n                    http://media.spokenlayer...</td>\n",
       "      <td>Technology</td>\n",
       "      <td>NaN</td>\n",
       "      <td>2016-11-27T06:46:08</td>\n",
       "      <td>2016-11-25T08:11:13</td>\n",
       "      <td>2</td>\n",
       "    </tr>\n",
       "  </tbody>\n",
       "</table>\n",
       "</div>"
      ],
      "text/plain": [
       "   Unnamed: 0                                    id  \\\n",
       "0           0  0002da5f-49a2-31ba-b44c-cdeabdf113cb   \n",
       "1           1  00044845-beb8-35f3-99e2-01dbcfb6eb63   \n",
       "2           2  00048bfa-8363-3f10-ac8e-8f27a31fe11f   \n",
       "3           3  0005ab14-ea88-3038-b82c-86366713e96a   \n",
       "4           4  0005eac4-fa5d-3c33-a354-ad7928f3705b   \n",
       "\n",
       "                                            feed_url  \\\n",
       "0  http://www.cbc.ca/podcasting/includes/dispatch...   \n",
       "1        http://everydayissaturday.com/feed/podcast/   \n",
       "2  http://disability411.jinkle.com/disability411.xml   \n",
       "3         http://stevenredant.podomatic.com/rss2.xml   \n",
       "4  http://api.spokenlayer.com/feed/channel/v1-wir...   \n",
       "\n",
       "                                               title  \\\n",
       "0                          Dispatches from CBC Radio   \n",
       "1  Motivation | Inspiration| Success with Entrepr...   \n",
       "2                              Disability411 Podcast   \n",
       "3                            Steven Redant's Podcast   \n",
       "4                        WIRED News – Spoken Edition   \n",
       "\n",
       "                                            subtitle  \\\n",
       "0                                                NaN   \n",
       "1  Motivation - Inspiration - Success - Mindset -...   \n",
       "2                                                NaN   \n",
       "3  Energy for your work out, your travels and you...   \n",
       "4                                                NaN   \n",
       "\n",
       "                                         description  \\\n",
       "0  CBC Radio's Dispatches host Rick MacInnes-Rae ...   \n",
       "1  Sam Crowley delivers million dollar motivation...   \n",
       "2  Disability411 - The Podcast for Disability Inf...   \n",
       "3  En example of what happened on my dance floor ...   \n",
       "4  Get in-depth coverage of current and future tr...   \n",
       "\n",
       "                                             summary  \\\n",
       "0  CBC Radio's Dispatches host Rick MacInnes-Rae ...   \n",
       "1  Sam Crowley delivers million dollar motivation...   \n",
       "2                                                NaN   \n",
       "3  En example of what happened on my dance floor ...   \n",
       "4  Get in-depth coverage of current and future tr...   \n",
       "\n",
       "                       author                         email  \\\n",
       "0                   CBC Radio             podcasting@cbc.ca   \n",
       "1                 Sam Crowley    sam@everydayissaturday.com   \n",
       "2                   Beth Case                           NaN   \n",
       "3  Steven Redant (the RedAnt)                           NaN   \n",
       "4                       WIRED  distribution@spokenlayer.com   \n",
       "\n",
       "                               link language  explicit  \\\n",
       "0      http://www.cbc.ca/podcasting    en-ca         0   \n",
       "1     http://everydayissaturday.com    en-us         0   \n",
       "2  http://disability411.jinkle.com/    en-us         0   \n",
       "3                               NaN    en-gb         0   \n",
       "4        http://www.spokenlayer.com       en         0   \n",
       "\n",
       "                                               image  \\\n",
       "0  http://www.cbc.ca/podcasting/images/promo-disp...   \n",
       "1  http://everydayissaturday.com/wp-content/uploa...   \n",
       "2                                                NaN   \n",
       "3  https://assets.podomatic.net/ts/b8/34/09/steve...   \n",
       "4  \\n                    http://media.spokenlayer...   \n",
       "\n",
       "                     category   subcategory           created_at  \\\n",
       "0             News & Politics  Public Radio  2016-11-27T03:15:54   \n",
       "1                    Business      Business  2016-11-26T19:11:59   \n",
       "2  Government & Organizations      Business  2016-11-27T00:37:30   \n",
       "3                       Music           NaN  2016-11-26T18:37:07   \n",
       "4                  Technology           NaN  2016-11-27T06:46:08   \n",
       "\n",
       "       last_build_date  rating  \n",
       "0  2016-11-27T03:15:54       2  \n",
       "1  2016-11-21T14:19:34       2  \n",
       "2  2016-11-27T00:37:30       3  \n",
       "3  2016-11-26T18:37:07       2  \n",
       "4  2016-11-25T08:11:13       2  "
      ]
     },
     "execution_count": 94,
     "metadata": {},
     "output_type": "execute_result"
    }
   ],
   "source": [
    "df = pd.read_csv('analyze.csv')\n",
    "df.head()"
   ]
  },
  {
   "cell_type": "code",
   "execution_count": 95,
   "metadata": {},
   "outputs": [
    {
     "name": "stdout",
     "output_type": "stream",
     "text": [
      "<class 'pandas.core.frame.DataFrame'>\n",
      "RangeIndex: 32832 entries, 0 to 32831\n",
      "Data columns (total 18 columns):\n",
      " #   Column           Non-Null Count  Dtype \n",
      "---  ------           --------------  ----- \n",
      " 0   Unnamed: 0       32832 non-null  int64 \n",
      " 1   id               32832 non-null  object\n",
      " 2   feed_url         32832 non-null  object\n",
      " 3   title            31524 non-null  object\n",
      " 4   subtitle         26086 non-null  object\n",
      " 5   description      30082 non-null  object\n",
      " 6   summary          27287 non-null  object\n",
      " 7   author           30120 non-null  object\n",
      " 8   email            27256 non-null  object\n",
      " 9   link             15358 non-null  object\n",
      " 10  language         32479 non-null  object\n",
      " 11  explicit         32832 non-null  int64 \n",
      " 12  image            30471 non-null  object\n",
      " 13  category         30409 non-null  object\n",
      " 14  subcategory      19473 non-null  object\n",
      " 15  created_at       32832 non-null  object\n",
      " 16  last_build_date  32832 non-null  object\n",
      " 17  rating           32832 non-null  int64 \n",
      "dtypes: int64(3), object(15)\n",
      "memory usage: 4.5+ MB\n",
      "None\n"
     ]
    }
   ],
   "source": [
    "print(df.info())"
   ]
  },
  {
   "cell_type": "code",
   "execution_count": 96,
   "metadata": {},
   "outputs": [
    {
     "name": "stdout",
     "output_type": "stream",
     "text": [
      "(32832, 18)\n",
      "Unnamed: 0          int64\n",
      "id                 object\n",
      "feed_url           object\n",
      "title              object\n",
      "subtitle           object\n",
      "description        object\n",
      "summary            object\n",
      "author             object\n",
      "email              object\n",
      "link               object\n",
      "language           object\n",
      "explicit            int64\n",
      "image              object\n",
      "category           object\n",
      "subcategory        object\n",
      "created_at         object\n",
      "last_build_date    object\n",
      "rating              int64\n",
      "dtype: object\n"
     ]
    }
   ],
   "source": [
    "print(df.shape)\n",
    "print(df.dtypes)"
   ]
  },
  {
   "cell_type": "code",
   "execution_count": 97,
   "metadata": {},
   "outputs": [
    {
     "data": {
      "text/html": [
       "<div>\n",
       "<style scoped>\n",
       "    .dataframe tbody tr th:only-of-type {\n",
       "        vertical-align: middle;\n",
       "    }\n",
       "\n",
       "    .dataframe tbody tr th {\n",
       "        vertical-align: top;\n",
       "    }\n",
       "\n",
       "    .dataframe thead th {\n",
       "        text-align: right;\n",
       "    }\n",
       "</style>\n",
       "<table border=\"1\" class=\"dataframe\">\n",
       "  <thead>\n",
       "    <tr style=\"text-align: right;\">\n",
       "      <th></th>\n",
       "      <th>Unnamed: 0</th>\n",
       "      <th>explicit</th>\n",
       "      <th>rating</th>\n",
       "    </tr>\n",
       "  </thead>\n",
       "  <tbody>\n",
       "    <tr>\n",
       "      <th>count</th>\n",
       "      <td>32832.000000</td>\n",
       "      <td>32832.000000</td>\n",
       "      <td>32832.000000</td>\n",
       "    </tr>\n",
       "    <tr>\n",
       "      <th>mean</th>\n",
       "      <td>16415.500000</td>\n",
       "      <td>0.093202</td>\n",
       "      <td>2.990619</td>\n",
       "    </tr>\n",
       "    <tr>\n",
       "      <th>std</th>\n",
       "      <td>9477.926355</td>\n",
       "      <td>0.290719</td>\n",
       "      <td>1.418548</td>\n",
       "    </tr>\n",
       "    <tr>\n",
       "      <th>min</th>\n",
       "      <td>0.000000</td>\n",
       "      <td>0.000000</td>\n",
       "      <td>1.000000</td>\n",
       "    </tr>\n",
       "    <tr>\n",
       "      <th>25%</th>\n",
       "      <td>8207.750000</td>\n",
       "      <td>0.000000</td>\n",
       "      <td>2.000000</td>\n",
       "    </tr>\n",
       "    <tr>\n",
       "      <th>50%</th>\n",
       "      <td>16415.500000</td>\n",
       "      <td>0.000000</td>\n",
       "      <td>3.000000</td>\n",
       "    </tr>\n",
       "    <tr>\n",
       "      <th>75%</th>\n",
       "      <td>24623.250000</td>\n",
       "      <td>0.000000</td>\n",
       "      <td>4.000000</td>\n",
       "    </tr>\n",
       "    <tr>\n",
       "      <th>max</th>\n",
       "      <td>32831.000000</td>\n",
       "      <td>1.000000</td>\n",
       "      <td>5.000000</td>\n",
       "    </tr>\n",
       "  </tbody>\n",
       "</table>\n",
       "</div>"
      ],
      "text/plain": [
       "         Unnamed: 0      explicit        rating\n",
       "count  32832.000000  32832.000000  32832.000000\n",
       "mean   16415.500000      0.093202      2.990619\n",
       "std     9477.926355      0.290719      1.418548\n",
       "min        0.000000      0.000000      1.000000\n",
       "25%     8207.750000      0.000000      2.000000\n",
       "50%    16415.500000      0.000000      3.000000\n",
       "75%    24623.250000      0.000000      4.000000\n",
       "max    32831.000000      1.000000      5.000000"
      ]
     },
     "execution_count": 97,
     "metadata": {},
     "output_type": "execute_result"
    }
   ],
   "source": [
    "df.describe()"
   ]
  },
  {
   "cell_type": "code",
   "execution_count": 98,
   "metadata": {},
   "outputs": [
    {
     "data": {
      "text/plain": [
       "Unnamed: 0         32832\n",
       "id                 32832\n",
       "feed_url           32832\n",
       "title              31524\n",
       "subtitle           26086\n",
       "description        30082\n",
       "summary            27287\n",
       "author             30120\n",
       "email              27256\n",
       "link               15358\n",
       "language           32479\n",
       "explicit           32832\n",
       "image              30471\n",
       "category           30409\n",
       "subcategory        19473\n",
       "created_at         32832\n",
       "last_build_date    32832\n",
       "rating             32832\n",
       "dtype: int64"
      ]
     },
     "execution_count": 98,
     "metadata": {},
     "output_type": "execute_result"
    }
   ],
   "source": [
    "df.count()"
   ]
  },
  {
   "cell_type": "code",
   "execution_count": 99,
   "metadata": {},
   "outputs": [
    {
     "data": {
      "text/plain": [
       "<AxesSubplot:>"
      ]
     },
     "execution_count": 99,
     "metadata": {},
     "output_type": "execute_result"
    },
    {
     "data": {
      "image/png": "[encoded data removed]",
      "text/plain": [
       "<Figure size 1080x1080 with 2 Axes>"
      ]
     },
     "metadata": {
      "needs_background": "light"
     },
     "output_type": "display_data"
    }
   ],
   "source": [
    "plt.figure(figsize=(15,15))\n",
    "sns.heatmap(data = df.corr(), annot=True, \n",
    "fmt = '.2f', linewidths=.5, cmap='Blues')"
   ]
  },
  {
   "cell_type": "code",
   "execution_count": 100,
   "metadata": {},
   "outputs": [],
   "source": [
    "df_new = df[0:10000]"
   ]
  },
  {
   "cell_type": "code",
   "execution_count": 101,
   "metadata": {},
   "outputs": [
    {
     "name": "stderr",
     "output_type": "stream",
     "text": [
      "C:\\Users\\User\\AppData\\Local\\Temp/ipykernel_18652/1680687102.py:8: SettingWithCopyWarning: \n",
      "A value is trying to be set on a copy of a slice from a DataFrame.\n",
      "Try using .loc[row_indexer,col_indexer] = value instead\n",
      "\n",
      "See the caveats in the documentation: https://pandas.pydata.org/pandas-docs/stable/user_guide/indexing.html#returning-a-view-versus-a-copy\n",
      "  df_new['description'] = df_new['description'].fillna('')\n"
     ]
    },
    {
     "data": {
      "text/plain": [
       "(10000, 34212)"
      ]
     },
     "execution_count": 101,
     "metadata": {},
     "output_type": "execute_result"
    }
   ],
   "source": [
    "#Import TfIdfVectorizer from scikit-learn\n",
    "from sklearn.feature_extraction.text import TfidfVectorizer\n",
    "\n",
    "#Define a TF-IDF Vectorizer Object. Remove all english stop words such as 'the', 'a'\n",
    "tfidf = TfidfVectorizer(stop_words='english')\n",
    "\n",
    "#Replace NaN with an empty string\n",
    "df_new['description'] = df_new['description'].fillna('')\n",
    "\n",
    "#Construct the required TF-IDF matrix by fitting and transforming the data\n",
    "tfidf_matrix = tfidf.fit_transform(df_new['description'])\n",
    "\n",
    "#Output the shape of tfidf_matrix\n",
    "tfidf_matrix.shape"
   ]
  },
  {
   "cell_type": "code",
   "execution_count": 102,
   "metadata": {},
   "outputs": [],
   "source": [
    "# Import linear_kernel\n",
    "from sklearn.metrics.pairwise import linear_kernel\n",
    "\n",
    "# Compute the cosine similarity matrix\n",
    "cosine_sim = linear_kernel(tfidf_matrix, tfidf_matrix)"
   ]
  },
  {
   "cell_type": "code",
   "execution_count": 103,
   "metadata": {},
   "outputs": [],
   "source": [
    "#Construct a reverse map of indices and movie titles\n",
    "indices = pd.Series(df_new.index, index=df_new['title']).drop_duplicates()"
   ]
  },
  {
   "cell_type": "code",
   "execution_count": 104,
   "metadata": {},
   "outputs": [],
   "source": [
    "# Function that takes in movie title as input and outputs most similar movies\n",
    "def get_recommendations(title, cosine_sim=cosine_sim):\n",
    "    # Get the index of the movie that matches the title\n",
    "    idx = indices[title]\n",
    "\n",
    "    # Get the pairwsie similarity scores of all movies with that movie\n",
    "    sim_scores = list(enumerate(cosine_sim[idx]))\n",
    "\n",
    "    # Sort the movies based on the similarity scores\n",
    "    sim_scores = sorted(sim_scores, key=lambda x: x[1], reverse=True)\n",
    "\n",
    "    # Get the scores of the 10 most similar movies\n",
    "    sim_scores = sim_scores[1:11]\n",
    "\n",
    "    # Get the movie indices\n",
    "    movie_indices = [i[0] for i in sim_scores]\n",
    "\n",
    "    # Return the top 10 most similar movies\n",
    "    return df_new['title'].iloc[movie_indices]"
   ]
  },
  {
   "cell_type": "code",
   "execution_count": 105,
   "metadata": {},
   "outputs": [
    {
     "data": {
      "text/plain": [
       "910                                   The Malliard Report\n",
       "9439                                         Comments on:\n",
       "7675                   Cato Institute Event Videos (Full)\n",
       "1661    The Motivational Marketing Show with Robert Im...\n",
       "9171             RTÉ - Our War - The Great Debate podcast\n",
       "7615                                William Hill Football\n",
       "5865    Clone Wars Roundtable: Information, Commentary...\n",
       "6184    Republic Forces Radio Network -- A Star Wars C...\n",
       "1211                                   Far Far Away Radio\n",
       "5382                                           Drone News\n",
       "Name: title, dtype: object"
      ]
     },
     "execution_count": 105,
     "metadata": {},
     "output_type": "execute_result"
    }
   ],
   "source": [
    "get_recommendations('The Kyle Warren Radio Show')"
   ]
  },
  {
   "cell_type": "code",
   "execution_count": 106,
   "metadata": {},
   "outputs": [
    {
     "data": {
      "text/plain": [
       "1216                    Life In Student Ministry\n",
       "679                       St Matts Youth Podcast\n",
       "2999                                quitebuttery\n",
       "2991               homefries » Shows » The Crush\n",
       "7539    Tomorrowland 2012 – House Music Podcasts\n",
       "8235                 Chicago Youthcure PowerCast\n",
       "8361                             Radio 1 Stories\n",
       "8444                       Coaching Youth Soccer\n",
       "3623                                    OK Radio\n",
       "7853                     The Pretty Good Podcast\n",
       "Name: title, dtype: object"
      ]
     },
     "execution_count": 106,
     "metadata": {},
     "output_type": "execute_result"
    }
   ],
   "source": [
    "get_recommendations('Youth Radio')"
   ]
  },
  {
   "cell_type": "code",
   "execution_count": 107,
   "metadata": {},
   "outputs": [
    {
     "data": {
      "text/plain": [
       "6217                   Manna Church Audio Sermon Archives\n",
       "9424                                        Finding Bryan\n",
       "3623                                             OK Radio\n",
       "8714                              A Swift Kick In The Ass\n",
       "5365                                            Drum Talk\n",
       "9116           Best Life of Your Life | The BLOYL Podcast\n",
       "8630    catalyst ..:|:..  hip to be civic ..:|:.. birm...\n",
       "4343                     Thinking For Business Success UK\n",
       "9939                       Pathways Radio by Paul O'Brien\n",
       "5624         mu''a'vo' mu' - A Klingon Word from the Word\n",
       "Name: title, dtype: object"
      ]
     },
     "execution_count": 107,
     "metadata": {},
     "output_type": "execute_result"
    }
   ],
   "source": [
    "get_recommendations('Archaic Drum')"
   ]
  },
  {
   "cell_type": "code",
   "execution_count": 108,
   "metadata": {},
   "outputs": [
    {
     "data": {
      "text/html": [
       "<div>\n",
       "<style scoped>\n",
       "    .dataframe tbody tr th:only-of-type {\n",
       "        vertical-align: middle;\n",
       "    }\n",
       "\n",
       "    .dataframe tbody tr th {\n",
       "        vertical-align: top;\n",
       "    }\n",
       "\n",
       "    .dataframe thead th {\n",
       "        text-align: right;\n",
       "    }\n",
       "</style>\n",
       "<table border=\"1\" class=\"dataframe\">\n",
       "  <thead>\n",
       "    <tr style=\"text-align: right;\">\n",
       "      <th></th>\n",
       "      <th>title</th>\n",
       "      <th>author</th>\n",
       "      <th>language</th>\n",
       "      <th>category</th>\n",
       "      <th>subcategory</th>\n",
       "    </tr>\n",
       "  </thead>\n",
       "  <tbody>\n",
       "    <tr>\n",
       "      <th>0</th>\n",
       "      <td>Dispatches from CBC Radio</td>\n",
       "      <td>CBC Radio</td>\n",
       "      <td>en-ca</td>\n",
       "      <td>News &amp; Politics</td>\n",
       "      <td>Public Radio</td>\n",
       "    </tr>\n",
       "    <tr>\n",
       "      <th>1</th>\n",
       "      <td>Motivation | Inspiration| Success with Entrepr...</td>\n",
       "      <td>Sam Crowley</td>\n",
       "      <td>en-us</td>\n",
       "      <td>Business</td>\n",
       "      <td>Business</td>\n",
       "    </tr>\n",
       "    <tr>\n",
       "      <th>2</th>\n",
       "      <td>Disability411 Podcast</td>\n",
       "      <td>Beth Case</td>\n",
       "      <td>en-us</td>\n",
       "      <td>Government &amp; Organizations</td>\n",
       "      <td>Business</td>\n",
       "    </tr>\n",
       "  </tbody>\n",
       "</table>\n",
       "</div>"
      ],
      "text/plain": [
       "                                               title       author language  \\\n",
       "0                          Dispatches from CBC Radio    CBC Radio    en-ca   \n",
       "1  Motivation | Inspiration| Success with Entrepr...  Sam Crowley    en-us   \n",
       "2                              Disability411 Podcast    Beth Case    en-us   \n",
       "\n",
       "                     category   subcategory  \n",
       "0             News & Politics  Public Radio  \n",
       "1                    Business      Business  \n",
       "2  Government & Organizations      Business  "
      ]
     },
     "execution_count": 108,
     "metadata": {},
     "output_type": "execute_result"
    }
   ],
   "source": [
    "df_new1 = df[['title','author', 'language', 'category', 'subcategory']]\n",
    "df_new1.head(3)"
   ]
  },
  {
   "cell_type": "code",
   "execution_count": 109,
   "metadata": {},
   "outputs": [],
   "source": [
    "def clean_data(x):\n",
    "    if isinstance(x, list):\n",
    "        return [str.lower(i.replace(\" \", \"\")) for i in x]\n",
    "    else:\n",
    "        #Check if director exists. If not, return empty string\n",
    "        if isinstance(x, str):\n",
    "            return str.lower(x.replace(\" \", \"\"))\n",
    "        else:\n",
    "            return ''"
   ]
  },
  {
   "cell_type": "code",
   "execution_count": 110,
   "metadata": {},
   "outputs": [
    {
     "name": "stderr",
     "output_type": "stream",
     "text": [
      "C:\\Users\\User\\AppData\\Local\\Temp/ipykernel_18652/3214209218.py:5: SettingWithCopyWarning: \n",
      "A value is trying to be set on a copy of a slice from a DataFrame.\n",
      "Try using .loc[row_indexer,col_indexer] = value instead\n",
      "\n",
      "See the caveats in the documentation: https://pandas.pydata.org/pandas-docs/stable/user_guide/indexing.html#returning-a-view-versus-a-copy\n",
      "  df_new1[feature] = df_new1[feature].apply(clean_data)\n"
     ]
    },
    {
     "data": {
      "text/html": [
       "<div>\n",
       "<style scoped>\n",
       "    .dataframe tbody tr th:only-of-type {\n",
       "        vertical-align: middle;\n",
       "    }\n",
       "\n",
       "    .dataframe tbody tr th {\n",
       "        vertical-align: top;\n",
       "    }\n",
       "\n",
       "    .dataframe thead th {\n",
       "        text-align: right;\n",
       "    }\n",
       "</style>\n",
       "<table border=\"1\" class=\"dataframe\">\n",
       "  <thead>\n",
       "    <tr style=\"text-align: right;\">\n",
       "      <th></th>\n",
       "      <th>title</th>\n",
       "      <th>author</th>\n",
       "      <th>language</th>\n",
       "      <th>category</th>\n",
       "      <th>subcategory</th>\n",
       "    </tr>\n",
       "  </thead>\n",
       "  <tbody>\n",
       "    <tr>\n",
       "      <th>0</th>\n",
       "      <td>Dispatches from CBC Radio</td>\n",
       "      <td>cbcradio</td>\n",
       "      <td>en-ca</td>\n",
       "      <td>news&amp;politics</td>\n",
       "      <td>publicradio</td>\n",
       "    </tr>\n",
       "    <tr>\n",
       "      <th>1</th>\n",
       "      <td>Motivation | Inspiration| Success with Entrepr...</td>\n",
       "      <td>samcrowley</td>\n",
       "      <td>en-us</td>\n",
       "      <td>business</td>\n",
       "      <td>business</td>\n",
       "    </tr>\n",
       "    <tr>\n",
       "      <th>2</th>\n",
       "      <td>Disability411 Podcast</td>\n",
       "      <td>bethcase</td>\n",
       "      <td>en-us</td>\n",
       "      <td>government&amp;organizations</td>\n",
       "      <td>business</td>\n",
       "    </tr>\n",
       "  </tbody>\n",
       "</table>\n",
       "</div>"
      ],
      "text/plain": [
       "                                               title      author language  \\\n",
       "0                          Dispatches from CBC Radio    cbcradio    en-ca   \n",
       "1  Motivation | Inspiration| Success with Entrepr...  samcrowley    en-us   \n",
       "2                              Disability411 Podcast    bethcase    en-us   \n",
       "\n",
       "                   category  subcategory  \n",
       "0             news&politics  publicradio  \n",
       "1                  business     business  \n",
       "2  government&organizations     business  "
      ]
     },
     "execution_count": 110,
     "metadata": {},
     "output_type": "execute_result"
    }
   ],
   "source": [
    "# Apply clean_data function to your features.\n",
    "features = ['author', 'language', 'category', 'subcategory']\n",
    "\n",
    "for feature in features:\n",
    "    df_new1[feature] = df_new1[feature].apply(clean_data)\n",
    "df_new1.head(3)    "
   ]
  },
  {
   "cell_type": "code",
   "execution_count": 111,
   "metadata": {},
   "outputs": [
    {
     "name": "stderr",
     "output_type": "stream",
     "text": [
      "C:\\Users\\User\\AppData\\Local\\Temp/ipykernel_18652/2119449595.py:4: SettingWithCopyWarning: \n",
      "A value is trying to be set on a copy of a slice from a DataFrame.\n",
      "Try using .loc[row_indexer,col_indexer] = value instead\n",
      "\n",
      "See the caveats in the documentation: https://pandas.pydata.org/pandas-docs/stable/user_guide/indexing.html#returning-a-view-versus-a-copy\n",
      "  df_new1['soup'] = df_new1.apply(create_soup, axis=1)\n"
     ]
    },
    {
     "data": {
      "text/plain": [
       "0                 cbcradio en-ca news&politics publicradio\n",
       "1                       samcrowley en-us business business\n",
       "2         bethcase en-us government&organizations business\n",
       "3                     stevenredant(theredant) en-gb music \n",
       "4                                     wired en technology \n",
       "                               ...                        \n",
       "32827               specialneedskids en family kids&family\n",
       "32828    kimgreenhouse en-us business religion&spiritua...\n",
       "32829                                 ringtales en comedy \n",
       "32830                 dmoneyandxebrielle en tv&film health\n",
       "32831                       idobinetwork en-us music music\n",
       "Name: soup, Length: 32832, dtype: object"
      ]
     },
     "execution_count": 111,
     "metadata": {},
     "output_type": "execute_result"
    }
   ],
   "source": [
    "def create_soup(x):\n",
    "    return  x['author'] + ' ' + x['language'] + ' ' + x['category'] + ' ' + x['subcategory']\n",
    "df100 = df_new1.copy()        \n",
    "df_new1['soup'] = df_new1.apply(create_soup, axis=1)\n",
    "df_new1['soup']"
   ]
  },
  {
   "cell_type": "code",
   "execution_count": 112,
   "metadata": {},
   "outputs": [
    {
     "data": {
      "text/html": [
       "<div>\n",
       "<style scoped>\n",
       "    .dataframe tbody tr th:only-of-type {\n",
       "        vertical-align: middle;\n",
       "    }\n",
       "\n",
       "    .dataframe tbody tr th {\n",
       "        vertical-align: top;\n",
       "    }\n",
       "\n",
       "    .dataframe thead th {\n",
       "        text-align: right;\n",
       "    }\n",
       "</style>\n",
       "<table border=\"1\" class=\"dataframe\">\n",
       "  <thead>\n",
       "    <tr style=\"text-align: right;\">\n",
       "      <th></th>\n",
       "      <th>title</th>\n",
       "      <th>author</th>\n",
       "      <th>language</th>\n",
       "      <th>category</th>\n",
       "      <th>subcategory</th>\n",
       "      <th>soup</th>\n",
       "    </tr>\n",
       "  </thead>\n",
       "  <tbody>\n",
       "    <tr>\n",
       "      <th>0</th>\n",
       "      <td>Dispatches from CBC Radio</td>\n",
       "      <td>cbcradio</td>\n",
       "      <td>en-ca</td>\n",
       "      <td>news&amp;politics</td>\n",
       "      <td>publicradio</td>\n",
       "      <td>cbcradio en-ca news&amp;politics publicradio</td>\n",
       "    </tr>\n",
       "    <tr>\n",
       "      <th>1</th>\n",
       "      <td>Motivation | Inspiration| Success with Entrepr...</td>\n",
       "      <td>samcrowley</td>\n",
       "      <td>en-us</td>\n",
       "      <td>business</td>\n",
       "      <td>business</td>\n",
       "      <td>samcrowley en-us business business</td>\n",
       "    </tr>\n",
       "    <tr>\n",
       "      <th>2</th>\n",
       "      <td>Disability411 Podcast</td>\n",
       "      <td>bethcase</td>\n",
       "      <td>en-us</td>\n",
       "      <td>government&amp;organizations</td>\n",
       "      <td>business</td>\n",
       "      <td>bethcase en-us government&amp;organizations business</td>\n",
       "    </tr>\n",
       "    <tr>\n",
       "      <th>3</th>\n",
       "      <td>Steven Redant's Podcast</td>\n",
       "      <td>stevenredant(theredant)</td>\n",
       "      <td>en-gb</td>\n",
       "      <td>music</td>\n",
       "      <td></td>\n",
       "      <td>stevenredant(theredant) en-gb music</td>\n",
       "    </tr>\n",
       "    <tr>\n",
       "      <th>4</th>\n",
       "      <td>WIRED News – Spoken Edition</td>\n",
       "      <td>wired</td>\n",
       "      <td>en</td>\n",
       "      <td>technology</td>\n",
       "      <td></td>\n",
       "      <td>wired en technology</td>\n",
       "    </tr>\n",
       "    <tr>\n",
       "      <th>...</th>\n",
       "      <td>...</td>\n",
       "      <td>...</td>\n",
       "      <td>...</td>\n",
       "      <td>...</td>\n",
       "      <td>...</td>\n",
       "      <td>...</td>\n",
       "    </tr>\n",
       "    <tr>\n",
       "      <th>9995</th>\n",
       "      <td>World Crisis Radio</td>\n",
       "      <td>webstertarpley</td>\n",
       "      <td>en-us</td>\n",
       "      <td>news&amp;politics</td>\n",
       "      <td>news&amp;politics</td>\n",
       "      <td>webstertarpley en-us news&amp;politics news&amp;politics</td>\n",
       "    </tr>\n",
       "    <tr>\n",
       "      <th>9996</th>\n",
       "      <td>League Of Unextraordinary Gentlemen</td>\n",
       "      <td>toastermenpodcastnetwork</td>\n",
       "      <td>en-us</td>\n",
       "      <td>ebooks</td>\n",
       "      <td>arts</td>\n",
       "      <td>toastermenpodcastnetwork en-us ebooks arts</td>\n",
       "    </tr>\n",
       "    <tr>\n",
       "      <th>9997</th>\n",
       "      <td>The Marriage Podcast</td>\n",
       "      <td>hopemedia</td>\n",
       "      <td>en-au</td>\n",
       "      <td></td>\n",
       "      <td></td>\n",
       "      <td>hopemedia en-au</td>\n",
       "    </tr>\n",
       "    <tr>\n",
       "      <th>9998</th>\n",
       "      <td>angelcast's Podcast</td>\n",
       "      <td>angelfarringdon</td>\n",
       "      <td>en</td>\n",
       "      <td>music</td>\n",
       "      <td></td>\n",
       "      <td>angelfarringdon en music</td>\n",
       "    </tr>\n",
       "    <tr>\n",
       "      <th>9999</th>\n",
       "      <td>The Golf Show</td>\n",
       "      <td>bbcradioscotland</td>\n",
       "      <td>en-gb</td>\n",
       "      <td>sports&amp;recreation</td>\n",
       "      <td></td>\n",
       "      <td>bbcradioscotland en-gb sports&amp;recreation</td>\n",
       "    </tr>\n",
       "  </tbody>\n",
       "</table>\n",
       "<p>10000 rows × 6 columns</p>\n",
       "</div>"
      ],
      "text/plain": [
       "                                                  title  \\\n",
       "0                             Dispatches from CBC Radio   \n",
       "1     Motivation | Inspiration| Success with Entrepr...   \n",
       "2                                 Disability411 Podcast   \n",
       "3                               Steven Redant's Podcast   \n",
       "4                           WIRED News – Spoken Edition   \n",
       "...                                                 ...   \n",
       "9995                                 World Crisis Radio   \n",
       "9996                League Of Unextraordinary Gentlemen   \n",
       "9997                               The Marriage Podcast   \n",
       "9998                                angelcast's Podcast   \n",
       "9999                                      The Golf Show   \n",
       "\n",
       "                        author language                  category  \\\n",
       "0                     cbcradio    en-ca             news&politics   \n",
       "1                   samcrowley    en-us                  business   \n",
       "2                     bethcase    en-us  government&organizations   \n",
       "3      stevenredant(theredant)    en-gb                     music   \n",
       "4                        wired       en                technology   \n",
       "...                        ...      ...                       ...   \n",
       "9995            webstertarpley    en-us             news&politics   \n",
       "9996  toastermenpodcastnetwork    en-us                    ebooks   \n",
       "9997                 hopemedia    en-au                             \n",
       "9998           angelfarringdon       en                     music   \n",
       "9999          bbcradioscotland    en-gb         sports&recreation   \n",
       "\n",
       "        subcategory                                              soup  \n",
       "0       publicradio          cbcradio en-ca news&politics publicradio  \n",
       "1          business                samcrowley en-us business business  \n",
       "2          business  bethcase en-us government&organizations business  \n",
       "3                                stevenredant(theredant) en-gb music   \n",
       "4                                                wired en technology   \n",
       "...             ...                                               ...  \n",
       "9995  news&politics  webstertarpley en-us news&politics news&politics  \n",
       "9996           arts        toastermenpodcastnetwork en-us ebooks arts  \n",
       "9997                                                hopemedia en-au    \n",
       "9998                                        angelfarringdon en music   \n",
       "9999                        bbcradioscotland en-gb sports&recreation   \n",
       "\n",
       "[10000 rows x 6 columns]"
      ]
     },
     "execution_count": 112,
     "metadata": {},
     "output_type": "execute_result"
    }
   ],
   "source": [
    "df_new2 = df_new1[0:10000]\n",
    "df_new2"
   ]
  },
  {
   "cell_type": "code",
   "execution_count": 113,
   "metadata": {},
   "outputs": [
    {
     "data": {
      "text/plain": [
       "<10000x9916 sparse matrix of type '<class 'numpy.int64'>'\n",
       "\twith 42732 stored elements in Compressed Sparse Row format>"
      ]
     },
     "execution_count": 113,
     "metadata": {},
     "output_type": "execute_result"
    }
   ],
   "source": [
    "# Import CountVectorizer and create the count matrix\n",
    "from sklearn.feature_extraction.text import CountVectorizer\n",
    "\n",
    "count = CountVectorizer(stop_words='english')\n",
    "count_matrix = count.fit_transform(df_new2['soup'])\n",
    "count_matrix"
   ]
  },
  {
   "cell_type": "code",
   "execution_count": 114,
   "metadata": {},
   "outputs": [],
   "source": [
    "# Compute the Cosine Similarity matrix based on the count_matrix\n",
    "from sklearn.metrics.pairwise import cosine_similarity\n",
    "\n",
    "cosine_sim2 = cosine_similarity(count_matrix, count_matrix)"
   ]
  },
  {
   "cell_type": "code",
   "execution_count": 115,
   "metadata": {},
   "outputs": [],
   "source": [
    "df_new1 = df_new1.reset_index()\n",
    "indices = pd.Series(df_new1.index, index=df_new1['title'])"
   ]
  },
  {
   "cell_type": "code",
   "execution_count": 116,
   "metadata": {},
   "outputs": [
    {
     "data": {
      "text/plain": [
       "1386     Blubrry Podcasting: Harvey Litt's mycast\n",
       "6822                     Open Spaces (Whole Show)\n",
       "74                         The Robert Wenzel Show\n",
       "3698                               Fox News Flash\n",
       "5134         Resonance: An Anarchist Audio Distro\n",
       "5555            Behind the News with Doug Henwood\n",
       "6947                      The Erick Erickson Show\n",
       "53      Logos Radio Network » Truth Exposed Radio\n",
       "145                                 Bill O'Reilly\n",
       "417                   Bill Moyers in Conversation\n",
       "Name: title, dtype: object"
      ]
     },
     "execution_count": 116,
     "metadata": {},
     "output_type": "execute_result"
    }
   ],
   "source": [
    "get_recommendations('The Kyle Warren Radio Show', cosine_sim2)"
   ]
  },
  {
   "cell_type": "code",
   "execution_count": 117,
   "metadata": {},
   "outputs": [
    {
     "data": {
      "text/plain": [
       "287                                       The Fetish Show\n",
       "722     Barbell Buddha Podcast - with Chris Moore from...\n",
       "1007                                   VEGAN SNACK ATTACK\n",
       "1379            RMIRECC Short Takes on Suicide Prevention\n",
       "2792                              The Minimalists Podcast\n",
       "2992                                     O Woman! Podcast\n",
       "3969                      Hillary's Yoga Practice Podcast\n",
       "4110              Black Femdom Goddess | the Black Fuhrer\n",
       "4479                                   Death, Sex & Money\n",
       "4543                            Mental Illness Happy Hour\n",
       "Name: title, dtype: object"
      ]
     },
     "execution_count": 117,
     "metadata": {},
     "output_type": "execute_result"
    }
   ],
   "source": [
    "get_recommendations('Archaic Drum', cosine_sim2)"
   ]
  },
  {
   "cell_type": "code",
   "execution_count": 118,
   "metadata": {},
   "outputs": [
    {
     "data": {
      "text/plain": [
       "1216                    Life In Student Ministry\n",
       "679                       St Matts Youth Podcast\n",
       "2999                                quitebuttery\n",
       "2991               homefries » Shows » The Crush\n",
       "7539    Tomorrowland 2012 – House Music Podcasts\n",
       "8235                 Chicago Youthcure PowerCast\n",
       "8361                             Radio 1 Stories\n",
       "8444                       Coaching Youth Soccer\n",
       "3623                                    OK Radio\n",
       "7853                     The Pretty Good Podcast\n",
       "Name: title, dtype: object"
      ]
     },
     "execution_count": 118,
     "metadata": {},
     "output_type": "execute_result"
    }
   ],
   "source": [
    "get_recommendations('Youth Radio')"
   ]
  }
 ],
 "metadata": {
  "kernelspec": {
   "display_name": "Python 3.9.7 ('base')",
   "language": "python",
   "name": "python3"
  },
  "language_info": {
   "codemirror_mode": {
    "name": "ipython",
    "version": 3
   },
   "file_extension": ".py",
   "mimetype": "text/x-python",
   "name": "python",
   "nbconvert_exporter": "python",
   "pygments_lexer": "ipython3",
   "version": "3.9.7"
  },
  "orig_nbformat": 4,
  "vscode": {
   "interpreter": {
    "hash": "f08154012ddadd8e950e6e9e035c7a7b32c136e7647e9b7c77e02eb723a8bedb"
   }
  }
 },
 "nbformat": 4,
 "nbformat_minor": 2
}
